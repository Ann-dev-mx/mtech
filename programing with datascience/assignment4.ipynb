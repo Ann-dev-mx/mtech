{
 "cells": [
  {
   "cell_type": "markdown",
   "metadata": {},
   "source": [
    "20MCS1008(ANN MARIYA XAVIER)"
   ]
  },
  {
   "cell_type": "markdown",
   "metadata": {},
   "source": [
    "# QUESTION 1 :Magic String"
   ]
  },
  {
   "cell_type": "code",
   "execution_count": null,
   "metadata": {},
   "outputs": [],
   "source": [
    "INPUT FORMAT:\n",
    "\n",
    "Enter a string\n",
    "\n",
    "EXPECTED OUTPUT FORMAT:\n",
    "\n",
    "Magic string\n",
    " or\n",
    "Not a magic string\n",
    "\n",
    "LOGIC:\n",
    "\n",
    "character at even position == character at old position (magic string)"
   ]
  },
  {
   "cell_type": "code",
   "execution_count": 11,
   "metadata": {},
   "outputs": [
    {
     "name": "stdout",
     "output_type": "stream",
     "text": [
      "enter the string: aabbcc\n",
      "MAGIC STRING\n"
     ]
    }
   ],
   "source": [
    "value = str(input(\"enter the string: \"))\n",
    "a =[]\n",
    "b=[]\n",
    "c=[]\n",
    "l = int(len((value)))\n",
    "for letters in value:\n",
    "    a.append(letters)\n",
    "if l%2 != 0:\n",
    "    a.pop(int(l/2))\n",
    "\n",
    "for i in range(len(a)):\n",
    "    if i%2 != 0:\n",
    "        b.append(a[i])\n",
    "        \n",
    "    else:\n",
    "        c.append(a[i])\n",
    "if b == c :\n",
    "    print(\"MAGIC STRING\")\n",
    "else:\n",
    "    print(\"NOT A MAGIC STRING\")\n",
    "\n",
    "    \n",
    "    "
   ]
  },
  {
   "cell_type": "markdown",
   "metadata": {},
   "source": [
    "# QUESTION 2:ORDERED TEAM LIST"
   ]
  },
  {
   "cell_type": "markdown",
   "metadata": {},
   "source": [
    "INPUT FORMAT:\n",
    "\n",
    "Enter the name\n",
    "Enter the date of birth\n",
    "…\n",
    "stop\n",
    "\n",
    "EXPECTED OUTPUT FORMAT:\n",
    "\n",
    "A single list containing number of entries and sorted names of the\n",
    "participants in under10,under13,under15 categories\n",
    "\n",
    "LOGIC:\n",
    " \n",
    "Receive input until flag = stop\n",
    "under\n"
   ]
  },
  {
   "cell_type": "code",
   "execution_count": 8,
   "metadata": {},
   "outputs": [
    {
     "name": "stdout",
     "output_type": "stream",
     "text": [
      "enter the name:  \n",
      "enter the date of birth:  \n",
      "Babu\n",
      "09-08-2007\n",
      "Vivek\n",
      "01-01-2012\n",
      "arun\n",
      "13-12-2006\n",
      "Ashwin\n",
      "18-05-2009\n",
      "ashok\n",
      "21-11-2011 \n",
      "guru\n",
      "09-09-2009\n",
      "stop\n",
      "[[2, ['ashok', 'Vivek']], [2, ['Ashwin', 'guru']], [2, ['arun', 'Babu']]]\n"
     ]
    }
   ],
   "source": [
    "active = True\n",
    "details =[]\n",
    "u10 = []\n",
    "u13 =[]\n",
    "u15=[]\n",
    "print(\"enter the name:  \")\n",
    "print(\"enter the date of birth:  \")\n",
    "\n",
    "while active:\n",
    "    \n",
    "    n = input()\n",
    "    if n == 'stop':\n",
    "        active =False\n",
    "   \n",
    "    else:\n",
    "        details.append(n)\n",
    "        \n",
    "        details.append(input())\n",
    "        \n",
    "\n",
    "for i in range(1,len(details),2):\n",
    "    k = details[i]\n",
    "    if int(2020 - int(k[6:10])) < 15:\n",
    "        if int(2020 - int(k[6:10])) < 13:\n",
    "            if int(2020 - int(k[6:10])) < 10:\n",
    "                u10.append(details[i-1])\n",
    "            else:  \n",
    "                u13.append(details[i-1])\n",
    "        else:\n",
    "            u15.append(details[i-1])\n",
    "            \n",
    "u10.sort(key = lambda x: x.lower())\n",
    "u13.sort(key = lambda x: x.lower())\n",
    "u15.sort(key = lambda x: x.lower())\n",
    "u1 = []\n",
    "u3 = []\n",
    "u5 = []\n",
    "u1.append(len(u10))\n",
    "u3.append(len(u13))\n",
    "u5.append(len(u15))\n",
    "u1.append(u10)\n",
    "u3.append(u13)\n",
    "u5.append(u15)\n",
    "final= []\n",
    "final.append(u1)\n",
    "final.append(u3)\n",
    "final.append(u5)\n",
    "\n",
    "\n",
    "print(final)\n",
    "\n",
    "\n",
    "   "
   ]
  },
  {
   "cell_type": "markdown",
   "metadata": {},
   "source": [
    "# QUESTION 3 : HOURLY WAGES"
   ]
  },
  {
   "cell_type": "markdown",
   "metadata": {},
   "source": [
    "INPUT FORMAT:\n",
    "\n",
    "Enter the number of employees, (n)\n",
    "Enter the id of 1st employee, (emid)\n",
    "Enter the in_time of 1st employee , (in_time)\n",
    "Enter the out_time of 1st employee (out_time)\n",
    "…\n",
    "Enter the id of nth employee\n",
    "Enter the in_time of nth employee\n",
    "Enter the out_time of nth employee\n",
    "\n",
    "EXPECTED OUTPUT FORMAT:\n",
    "\n",
    "print id as key and in_time, out_time, wages as values\n",
    "\n",
    "LOGIC:\n",
    "\n",
    "\n",
    "Total hours = (out_time[0:2] -in_time[0:2])\n",
    "total min =in_time[3:5]) -  int(out_time[3:5] \n",
    "total wage =Total hours *200  + total min*3"
   ]
  },
  {
   "cell_type": "code",
   "execution_count": 10,
   "metadata": {},
   "outputs": [
    {
     "name": "stdout",
     "output_type": "stream",
     "text": [
      "Enter the number of employees, 4\n",
      "enter the id of employee  1\n",
      "101\n",
      "enter the in_time of employee 1\n",
      "06:20\n",
      "enter the out_time of the employee 1\n",
      "12:45\n",
      "enter the id of employee  2\n",
      "105\n",
      "enter the in_time of employee 2\n",
      "09:15\n",
      "enter the out_time of the employee 2\n",
      "14:55\n",
      "enter the id of employee  3\n",
      "103\n",
      "enter the in_time of employee 3\n",
      "14:12\n",
      "enter the out_time of the employee 3\n",
      "19:47\n",
      "enter the id of employee  4\n",
      "102\n",
      "enter the in_time of employee 4\n",
      "09:30\n",
      "enter the out_time of the employee 4\n",
      "20:00\n",
      "{'101': ('06:20', '12:45', 1200), '105': ('09:15', '14:55', 1120), '103': ('14:12', '19:47', 1105), '102': ('09:30', '20:00', 2090)}\n"
     ]
    }
   ],
   "source": [
    "n = int(input(\"Enter the number of employees, \"))\n",
    "employee = {}\n",
    "\n",
    "for i in range(n):\n",
    "    h =0\n",
    "    m=0\n",
    "    t=0\n",
    "    print(\"enter the id of employee \", i+1)\n",
    "    empid = input()\n",
    "    print(\"enter the in_time of employee\", i+1)\n",
    "    in_time = input()\n",
    "    print(\"enter the out_time of the employee\",i+1  )\n",
    "    out_time = input()\n",
    "    h = h+int(out_time[0:2]) - int(in_time[0:2])\n",
    "    if int(out_time[3:5]) >= int(in_time[3:5]):\n",
    "        m = m+int(out_time[3:5]) - int(in_time[3:5])\n",
    "    else:\n",
    "        m = m+ int(in_time[3:5]) -  int(out_time[3:5])                    \n",
    "    \n",
    "    if (m >= 30) :\n",
    "        if(m == 30):\n",
    "             t =t+((h-1)*200)+(m*3)\n",
    "        else:\n",
    "            t =t+(h*200)+(m*3)\n",
    "            \n",
    "    else:\n",
    "         t=t+(h*200)\n",
    "    \n",
    "    employee[empid]=(in_time,out_time,t)\n",
    "print(employee)\n",
    "    "
   ]
  }
 ],
 "metadata": {
  "kernelspec": {
   "display_name": "Python 3",
   "language": "python",
   "name": "python3"
  },
  "language_info": {
   "codemirror_mode": {
    "name": "ipython",
    "version": 3
   },
   "file_extension": ".py",
   "mimetype": "text/x-python",
   "name": "python",
   "nbconvert_exporter": "python",
   "pygments_lexer": "ipython3",
   "version": "3.8.3"
  }
 },
 "nbformat": 4,
 "nbformat_minor": 4
}
