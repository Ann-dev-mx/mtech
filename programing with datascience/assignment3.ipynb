{
 "cells": [
  {
   "cell_type": "markdown",
   "metadata": {},
   "source": [
    "20MCS1008(ANN MARIYA XAVIER)"
   ]
  },
  {
   "cell_type": "markdown",
   "metadata": {},
   "source": [
    "QUESTION 1 :Milk in Booth"
   ]
  },
  {
   "cell_type": "code",
   "execution_count": 10,
   "metadata": {},
   "outputs": [
    {
     "name": "stdout",
     "output_type": "stream",
     "text": [
      "enter the number of farms5\n",
      "12.44\n",
      "56.7\n",
      "31.45\n",
      "12.456\n",
      "6\n",
      "the total amout of milk in booth is\n",
      "119.046\n"
     ]
    }
   ],
   "source": [
    "n = int(input(\"enter the number of farms\"))\n",
    "f =[]\n",
    "i = 1\n",
    "total = 0\n",
    "for C in range(i,n+1):\n",
    "    w =float(input())\n",
    "    if w <= float(0):\n",
    "        print(\"invalid input\")\n",
    "    else:\n",
    "        f.append(float(w))\n",
    "for ele in range(0, len(f)): \n",
    "    total = total + f[ele] \n",
    "print(\"the total amout of milk in booth is\")  \n",
    "print(total)\n",
    "    "
   ]
  },
  {
   "cell_type": "markdown",
   "metadata": {},
   "source": [
    "QUESTION 2 :AND gate"
   ]
  },
  {
   "cell_type": "code",
   "execution_count": 6,
   "metadata": {},
   "outputs": [
    {
     "name": "stdout",
     "output_type": "stream",
     "text": [
      "enter the number of bytes4\n",
      "enter the x\n",
      "1\n",
      "1\n",
      "0\n",
      "1\n",
      "enter the y\n",
      "1\n",
      "0\n",
      "1\n",
      "1\n",
      "the output is:\n",
      "1\n",
      "0\n",
      "0\n",
      "1\n"
     ]
    }
   ],
   "source": [
    "n = int(input(\"enter the number of bytes\"))\n",
    "x =[]\n",
    "y= []\n",
    "print(\"enter the x\")\n",
    "for i in range(0,n):\n",
    "    x.append(int(input()))\n",
    "print(\"enter the y\")    \n",
    "for j in range(0,n):\n",
    "    y.append(int(input()))\n",
    "print(\"the output is:\")\n",
    "for k in range(0,n):\n",
    "    w=(x[k]) & (y[k])\n",
    "    print(w)\n",
    "\n",
    "\n",
    "    \n",
    "\n"
   ]
  },
  {
   "cell_type": "markdown",
   "metadata": {},
   "source": [
    "QUESTION 3 : AMSTRONG NUMBER"
   ]
  },
  {
   "cell_type": "code",
   "execution_count": 11,
   "metadata": {},
   "outputs": [
    {
     "name": "stdout",
     "output_type": "stream",
     "text": [
      "Enter a number: 407\n",
      "407 is an Armstrong number\n"
     ]
    }
   ],
   "source": [
    "num = int(input(\"Enter a number: \"))\n",
    "if num>=100 & num<=999:\n",
    "    sum = 0\n",
    "    temp = num\n",
    "    while temp > 0:\n",
    "       digit = temp % 10\n",
    "       sum += digit ** 3\n",
    "       temp //= 10\n",
    "    if num == sum:\n",
    "       print(num,\"is an Armstrong number\")\n",
    "    else:\n",
    "       print(num,\"is not an Armstrong number\")\n",
    "else:\n",
    "    print(\"invalid output\")"
   ]
  },
  {
   "cell_type": "markdown",
   "metadata": {},
   "source": [
    "QUESTION 4: PATTERN"
   ]
  },
  {
   "cell_type": "code",
   "execution_count": 13,
   "metadata": {},
   "outputs": [
    {
     "name": "stdout",
     "output_type": "stream",
     "text": [
      "enter the value5\n",
      "**\n",
      "****\n",
      "******\n",
      "********\n",
      "**********\n"
     ]
    }
   ],
   "source": [
    "n =int(input(\"enter the value\"))\n",
    "for i in range(1,n+1):\n",
    "         for j in range(0, i*2):\n",
    "              print(\"*\" , end=\"\")\n",
    "         print(\"\\r\")"
   ]
  },
  {
   "cell_type": "markdown",
   "metadata": {},
   "source": [
    "QUESTION 5:CO-PRIME"
   ]
  },
  {
   "cell_type": "code",
   "execution_count": 23,
   "metadata": {},
   "outputs": [
    {
     "name": "stdout",
     "output_type": "stream",
     "text": [
      "enter the first number12\n",
      "enter the second number35\n",
      "coprime\n"
     ]
    }
   ],
   "source": [
    "x=int(input(\"enter the first number\"))\n",
    "y = int(input(\"enter the second number\"))\n",
    "if x > y:\n",
    "        smaller = y\n",
    "else:\n",
    "    smaller = x\n",
    "for i in range(1, smaller+1):\n",
    "    if((x % i == 0) and (y % i == 0)):\n",
    "        hcf = i \n",
    "    h = hcf\n",
    "if hcf == 1:\n",
    "    print(\"coprime\")\n",
    "\n",
    "else:\n",
    "    print(\"not a coprime\")\n",
    "    "
   ]
  },
  {
   "cell_type": "markdown",
   "metadata": {},
   "source": [
    "QUESTION :6 Health drink Festival Bonanza"
   ]
  },
  {
   "cell_type": "code",
   "execution_count": 12,
   "metadata": {},
   "outputs": [
    {
     "name": "stdout",
     "output_type": "stream",
     "text": [
      "Number of health drink packets purchased125\n",
      "Number of packets delivered is :\n",
      "150\n"
     ]
    }
   ],
   "source": [
    "n =int(input(\"Number of health drink packets purchased\"))\n",
    "if n > 0 & n<=500:\n",
    "    f =int(n/5)\n",
    "    t =n+f\n",
    "    print(\"Number of packets delivered is :\")\n",
    "    print(t)\n",
    "else:\n",
    "    print(\"invalid output\")\n",
    "    "
   ]
  }
 ],
 "metadata": {
  "kernelspec": {
   "display_name": "Python 3",
   "language": "python",
   "name": "python3"
  },
  "language_info": {
   "codemirror_mode": {
    "name": "ipython",
    "version": 3
   },
   "file_extension": ".py",
   "mimetype": "text/x-python",
   "name": "python",
   "nbconvert_exporter": "python",
   "pygments_lexer": "ipython3",
   "version": "3.8.3"
  }
 },
 "nbformat": 4,
 "nbformat_minor": 4
}
