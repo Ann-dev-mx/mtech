{
 "cells": [
  {
   "cell_type": "markdown",
   "metadata": {},
   "source": [
    "20MCS1008\n",
    "ANN MARIYA XAVIER\n"
   ]
  },
  {
   "cell_type": "markdown",
   "metadata": {},
   "source": [
    "\n",
    "SUM OF DIGITS"
   ]
  },
  {
   "cell_type": "code",
   "execution_count": 14,
   "metadata": {},
   "outputs": [
    {
     "name": "stdout",
     "output_type": "stream",
     "text": [
      "enter the value123\n",
      "enter the second number2\n",
      "6\n",
      "win\n"
     ]
    }
   ],
   "source": [
    "number = input(\"enter the value\")\n",
    "number2 = int(input(\"enter the second number\"))\n",
    "sum_of_digits = 0\n",
    "for d in str(number): \n",
    "    sum_of_digits += int(d)\n",
    "print(sum_of_digits)   \n",
    "if (sum_of_digits > number2 ):\n",
    "    print(\"win\")\n",
    "else:\n",
    "    print(\"loose\")\n",
    "    "
   ]
  },
  {
   "cell_type": "markdown",
   "metadata": {},
   "source": [
    "SUPER NUMBER"
   ]
  },
  {
   "cell_type": "code",
   "execution_count": 13,
   "metadata": {},
   "outputs": [
    {
     "name": "stdout",
     "output_type": "stream",
     "text": [
      "Please Enter any Number: 2112\n",
      "super Number\n"
     ]
    }
   ],
   "source": [
    "Number = int(input(\"Please Enter any Number: \"))\n",
    "n1 = int(Number)\n",
    "\n",
    "Reverse = 0.\n",
    "while(Number > 0):\n",
    "    Reminder = Number %10.\n",
    "    Reverse = (Reverse *10) + Reminder\n",
    "    Number = Number //10\n",
    "if int(Reverse) == n1:\n",
    "    print(\"super Number\")\n",
    "else:\n",
    "    print(\"Not a Super number\")\n",
    "\n",
    "    \n"
   ]
  },
  {
   "cell_type": "markdown",
   "metadata": {},
   "source": [
    "SECRET KEY"
   ]
  },
  {
   "cell_type": "code",
   "execution_count": null,
   "metadata": {},
   "outputs": [],
   "source": [
    "RN1 = int(input(\"Enter the first positive integer for Ramu\"))\n",
    "RN2 =int(input(\"Enter the second positive integer for Ramu\")) \n",
    "JN1 =int(input(\"Enter the first positive integer for Raju\"))\n",
    "JN2 =int(input(\"Enter the second positive integer for Raju\"))\n",
    "code =int(input(\"enter the code number\"))\n",
    "tr = int(RN1%RN2)\n",
    "tj =int(JN1 // JN2)\n",
    "\n"
   ]
  },
  {
   "cell_type": "markdown",
   "metadata": {},
   "source": [
    "Temperature of the depth of the ocean"
   ]
  },
  {
   "cell_type": "code",
   "execution_count": 5,
   "metadata": {},
   "outputs": [
    {
     "name": "stdout",
     "output_type": "stream",
     "text": [
      "Enter the depth in feet that the submarine dives6750\n",
      "Enter the time in minutes45\n",
      "Enter the temperature of ocean surface water28\n",
      "65836.8\n",
      "0.05316175755808301\n"
     ]
    }
   ],
   "source": [
    "depth = int(input(\"Enter the depth in feet that the submarine dives\"))\n",
    "time =int(input(\"Enter the time in minutes\" ))\n",
    "temp =int(input(\"Enter the temperature of ocean surface water\"))\n",
    "dm =(depth*0.3048)\n",
    "#for a min depth\n",
    "m=dm/time\n",
    "#for each 24 hours\n",
    "d=m*24*60\n",
    "#for each 25 meters\n",
    "x=d*125**-1\n",
    "#depth\n",
    "y=temp/x\n",
    "\n",
    "print(d)\n",
    "print(y)\n"
   ]
  }
 ],
 "metadata": {
  "kernelspec": {
   "display_name": "Python 3",
   "language": "python",
   "name": "python3"
  },
  "language_info": {
   "codemirror_mode": {
    "name": "ipython",
    "version": 3
   },
   "file_extension": ".py",
   "mimetype": "text/x-python",
   "name": "python",
   "nbconvert_exporter": "python",
   "pygments_lexer": "ipython3",
   "version": "3.8.3"
  }
 },
 "nbformat": 4,
 "nbformat_minor": 4
}
